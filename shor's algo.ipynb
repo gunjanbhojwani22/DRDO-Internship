{
 "cells": [
  {
   "cell_type": "code",
   "execution_count": 1,
   "id": "3f0c744b",
   "metadata": {},
   "outputs": [],
   "source": [
    "from qiskit import QuantumCircuit,  transpile\n",
    "from qiskit.visualization import plot_histogram\n",
    "from sympy import Matrix\n",
    "import numpy as np\n",
    "from qiskit_aer import AerSimulator"
   ]
  },
  {
   "cell_type": "code",
   "execution_count": 3,
   "id": "14999007",
   "metadata": {},
   "outputs": [
    {
     "name": "stdout",
     "output_type": "stream",
     "text": [
      "Factors of 222 are: (2, 111)\n"
     ]
    }
   ],
   "source": [
    "import random\n",
    "from math import gcd\n",
    "\n",
    "def shors_algorithm(N):\n",
    "    # Step 1: Check if N is even\n",
    "    if N % 2 == 0:\n",
    "        return 2, N // 2\n",
    "\n",
    "    # Step 2: Try random a such that 1 < a < N\n",
    "    while True:\n",
    "        a = random.randint(2, N - 2)\n",
    "        g = gcd(a, N)\n",
    "        if g != 1:\n",
    "            # Non-trivial factor found\n",
    "            return g, N // g\n",
    "        \n",
    "        # Step 3: Find the order r of a mod N\n",
    "        r = 1\n",
    "        while pow(a, r, N) != 1 and r < N:\n",
    "            r += 1\n",
    "\n",
    "        if r % 2 != 0 or pow(a, r//2, N) == N - 1:\n",
    "            # Bad r found, try another 'a'\n",
    "            continue\n",
    "\n",
    "        # Step 4: Compute possible factors\n",
    "        factor1 = gcd(pow(a, r//2) - 1, N)\n",
    "        factor2 = gcd(pow(a, r//2) + 1, N)\n",
    "\n",
    "        if factor1 != 1 and factor1 != N:\n",
    "            return factor1, N // factor1\n",
    "        if factor2 != 1 and factor2 != N:\n",
    "            return factor2, N // factor2\n",
    "\n",
    "# Example usage:\n",
    "N = 222\n",
    "factors = shors_algorithm(N)\n",
    "print(f\"Factors of {N} are: {factors}\")\n"
   ]
  },
  {
   "cell_type": "code",
   "execution_count": null,
   "id": "9a5a2c14",
   "metadata": {},
   "outputs": [],
   "source": []
  }
 ],
 "metadata": {
  "kernelspec": {
   "display_name": "myenv",
   "language": "python",
   "name": "python3"
  },
  "language_info": {
   "codemirror_mode": {
    "name": "ipython",
    "version": 3
   },
   "file_extension": ".py",
   "mimetype": "text/x-python",
   "name": "python",
   "nbconvert_exporter": "python",
   "pygments_lexer": "ipython3",
   "version": "3.13.2"
  }
 },
 "nbformat": 4,
 "nbformat_minor": 5
}
