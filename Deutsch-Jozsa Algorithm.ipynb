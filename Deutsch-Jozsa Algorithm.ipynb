{
 "cells": [
  {
   "cell_type": "code",
   "execution_count": 1,
   "id": "f50dc8ac-806d-4beb-9d0f-674571abe4fb",
   "metadata": {},
   "outputs": [],
   "source": [
    "import numpy as np\n",
    "import matplotlib.pyplot as plt"
   ]
  },
  {
   "cell_type": "code",
   "execution_count": 3,
   "id": "e7ec171b-7a85-49a4-95c2-03d778c58ced",
   "metadata": {},
   "outputs": [],
   "source": [
    "from qiskit import QuantumCircuit, ClassicalRegister, QuantumRegister\n",
    "from qiskit.primitives import StatevectorSampler\n",
    "from qiskit.visualization import plot_histogram\n",
    "from qiskit.transpiler.preset_passmanagers import generate_preset_pass_manager"
   ]
  },
  {
   "cell_type": "code",
   "execution_count": 4,
   "id": "ce749cf9-6756-423a-94f2-b0a92a9d11de",
   "metadata": {},
   "outputs": [],
   "source": [
    "from qiskit_ibm_runtime import SamplerV2 as Sampler\n",
    "from qiskit_ibm_runtime import QiskitRuntimeService"
   ]
  },
  {
   "cell_type": "code",
   "execution_count": 5,
   "id": "090c8bc3-6628-4895-ae86-229444d20ece",
   "metadata": {},
   "outputs": [],
   "source": [
    "n = 10 # the length of the first register for querying the oracle "
   ]
  },
  {
   "cell_type": "code",
   "execution_count": 21,
   "id": "62a55f8b-73ae-472f-ba6e-4e3bbe1d1563",
   "metadata": {},
   "outputs": [],
   "source": [
    "oracleType, oracleValue = np.random.randint(2), np.random.randint(2)"
   ]
  },
  {
   "cell_type": "code",
   "execution_count": 22,
   "id": "76f722e4-f508-4558-b010-dac496c8bf2a",
   "metadata": {},
   "outputs": [
    {
     "name": "stdout",
     "output_type": "stream",
     "text": [
      "The oracle returns a balanced function\n"
     ]
    }
   ],
   "source": [
    "if oracleType == 0:\n",
    "    print(\"The oracle returns a constant value \", oracleValue)\n",
    "else:\n",
    "    print(\"The oracle returns a balanced function\")\n",
    "    a = np.random.randint(1,2**n)"
   ]
  },
  {
   "cell_type": "code",
   "execution_count": 23,
   "id": "00dc6d34-aec5-434d-a0d4-c06228181ac8",
   "metadata": {},
   "outputs": [],
   "source": [
    "qr = QuantumRegister(n+1)"
   ]
  },
  {
   "cell_type": "code",
   "execution_count": 24,
   "id": "4dc0b36a-7ab1-40d3-8e6f-f839c5097246",
   "metadata": {},
   "outputs": [],
   "source": [
    "cr = ClassicalRegister(n, name='res')"
   ]
  },
  {
   "cell_type": "code",
   "execution_count": 25,
   "id": "a0c67344-5eaf-4f9a-b1d3-495389ab3e43",
   "metadata": {},
   "outputs": [],
   "source": [
    "circuitName = \"DeutschJozsa\"\n",
    "djCircuit = QuantumCircuit(qr, cr)"
   ]
  },
  {
   "cell_type": "code",
   "execution_count": 26,
   "id": "863d0f5b-2425-4af4-8c44-a9f01997b478",
   "metadata": {},
   "outputs": [],
   "source": [
    "for i in range(n):\n",
    "    djCircuit.h(qr[i])"
   ]
  },
  {
   "cell_type": "code",
   "execution_count": 27,
   "id": "3f13fb16-fcb3-42af-973b-c25447b9aa28",
   "metadata": {},
   "outputs": [
    {
     "data": {
      "text/plain": [
       "<qiskit.circuit.instructionset.InstructionSet at 0x1d369780d00>"
      ]
     },
     "execution_count": 27,
     "metadata": {},
     "output_type": "execute_result"
    }
   ],
   "source": [
    "djCircuit.x(qr[n])\n",
    "djCircuit.h(qr[n])"
   ]
  },
  {
   "cell_type": "code",
   "execution_count": 28,
   "id": "8ad3d58f-9f5a-4cbd-acc8-116669099e8e",
   "metadata": {},
   "outputs": [
    {
     "data": {
      "text/plain": [
       "CircuitInstruction(operation=Instruction(name='barrier', num_qubits=11, num_clbits=0, params=[]), qubits=(<Qubit register=(11, \"q1\"), index=0>, <Qubit register=(11, \"q1\"), index=1>, <Qubit register=(11, \"q1\"), index=2>, <Qubit register=(11, \"q1\"), index=3>, <Qubit register=(11, \"q1\"), index=4>, <Qubit register=(11, \"q1\"), index=5>, <Qubit register=(11, \"q1\"), index=6>, <Qubit register=(11, \"q1\"), index=7>, <Qubit register=(11, \"q1\"), index=8>, <Qubit register=(11, \"q1\"), index=9>, <Qubit register=(11, \"q1\"), index=10>), clbits=())"
      ]
     },
     "execution_count": 28,
     "metadata": {},
     "output_type": "execute_result"
    }
   ],
   "source": [
    "djCircuit.barrier()"
   ]
  },
  {
   "cell_type": "code",
   "execution_count": 29,
   "id": "f6342fd5-5df6-46ea-88c0-0e3d55fd37d3",
   "metadata": {},
   "outputs": [],
   "source": [
    "if oracleType == 0:#If the oracleType is \"0\", the oracle returns oracleValue for all input. \n",
    "    if oracleValue == 1:\n",
    "        djCircuit.x(qr[n])\n",
    "    else:\n",
    "        djCircuit.id(qr[n])\n",
    "else: # Otherwise, it returns the inner product of the input with a (non-zero bitstring) \n",
    "    for i in range(n):\n",
    "        if (a & (1 << i)):\n",
    "            djCircuit.cx(qr[i], qr[n])"
   ]
  },
  {
   "cell_type": "code",
   "execution_count": 30,
   "id": "9ae927f1-9173-40bc-ac95-3a1e17842ba5",
   "metadata": {},
   "outputs": [
    {
     "data": {
      "text/plain": [
       "CircuitInstruction(operation=Instruction(name='barrier', num_qubits=11, num_clbits=0, params=[]), qubits=(<Qubit register=(11, \"q1\"), index=0>, <Qubit register=(11, \"q1\"), index=1>, <Qubit register=(11, \"q1\"), index=2>, <Qubit register=(11, \"q1\"), index=3>, <Qubit register=(11, \"q1\"), index=4>, <Qubit register=(11, \"q1\"), index=5>, <Qubit register=(11, \"q1\"), index=6>, <Qubit register=(11, \"q1\"), index=7>, <Qubit register=(11, \"q1\"), index=8>, <Qubit register=(11, \"q1\"), index=9>, <Qubit register=(11, \"q1\"), index=10>), clbits=())"
      ]
     },
     "execution_count": 30,
     "metadata": {},
     "output_type": "execute_result"
    }
   ],
   "source": [
    "djCircuit.barrier()"
   ]
  },
  {
   "cell_type": "code",
   "execution_count": 31,
   "id": "e7e801f8-c986-446b-941d-4561ecbd6705",
   "metadata": {},
   "outputs": [],
   "source": [
    "for i in range(n):\n",
    "    djCircuit.h(qr[i])"
   ]
  },
  {
   "cell_type": "code",
   "execution_count": 32,
   "id": "65719ce7-f994-4ae5-8da9-1af9665f8f52",
   "metadata": {},
   "outputs": [],
   "source": [
    "djCircuit.barrier()\n",
    "for i in range(n):\n",
    "    djCircuit.measure(qr[i], cr[i])"
   ]
  },
  {
   "cell_type": "code",
   "execution_count": 33,
   "id": "ebf724de-b813-4c15-887c-f11abf58376d",
   "metadata": {},
   "outputs": [
    {
     "data": {
      "image/png": "[encoded data removed]",
      "text/plain": [
       "<Figure size 872.471x518.389 with 1 Axes>"
      ]
     },
     "execution_count": 33,
     "metadata": {},
     "output_type": "execute_result"
    }
   ],
   "source": [
    "#draw the circuit\n",
    "djCircuit.draw(output='mpl',scale=0.5)"
   ]
  },
  {
   "cell_type": "code",
   "execution_count": 34,
   "id": "692fe637-e443-4f27-87f0-6f5bb886d66e",
   "metadata": {},
   "outputs": [
    {
     "data": {
      "image/png": "[encoded data removed]",
      "text/plain": [
       "<Figure size 640x480 with 1 Axes>"
      ]
     },
     "execution_count": 34,
     "metadata": {},
     "output_type": "execute_result"
    }
   ],
   "source": [
    "sampler = StatevectorSampler()\n",
    "job = sampler.run([djCircuit])\n",
    "results = job.result()\n",
    "plot_histogram(results[0].data.res.get_counts())"
   ]
  },
  {
   "cell_type": "code",
   "execution_count": null,
   "id": "7410a02e-7289-4492-a762-5d6879f144be",
   "metadata": {},
   "outputs": [],
   "source": []
  }
 ],
 "metadata": {
  "kernelspec": {
   "display_name": "Python (Qiskit)",
   "language": "python",
   "name": "qiskit"
  },
  "language_info": {
   "codemirror_mode": {
    "name": "ipython",
    "version": 3
   },
   "file_extension": ".py",
   "mimetype": "text/x-python",
   "name": "python",
   "nbconvert_exporter": "python",
   "pygments_lexer": "ipython3",
   "version": "3.13.4"
  }
 },
 "nbformat": 4,
 "nbformat_minor": 5
}
